{
 "cells": [
  {
   "cell_type": "markdown",
   "metadata": {},
   "source": [
    "# Word2vec Demo"
   ]
  },
  {
   "cell_type": "markdown",
   "metadata": {},
   "source": [
    "### Created by Mamoru Itoi"
   ]
  },
  {
   "cell_type": "markdown",
   "metadata": {},
   "source": [
    "## Word2vecとは？"
   ]
  },
  {
   "cell_type": "markdown",
   "metadata": {},
   "source": [
    "コンピュータに単語を学習させることにより、単語どうしの近さを計測したり、単語どうしの足し算や引き算ができるようになる技術です。"
   ]
  },
  {
   "cell_type": "code",
   "execution_count": 28,
   "metadata": {},
   "outputs": [
    {
     "name": "stderr",
     "output_type": "stream",
     "text": [
      "/anaconda3/lib/python3.7/site-packages/smart_open/smart_open_lib.py:398: UserWarning: This function is deprecated, use smart_open.open instead. See the migration notes for details: https://github.com/RaRe-Technologies/smart_open/blob/master/README.rst#migrating-to-the-new-open-function\n",
      "  'See the migration notes for details: %s' % _MIGRATION_NOTES_URL\n"
     ]
    }
   ],
   "source": [
    "#Importing Word2vec\n",
    "from gensim.models import word2vec\n",
    "\n",
    "#Reading the model\n",
    "model = word2vec.Word2Vec.load(\"/Users/mamoruitoi/wiki.model\")\n",
    "\n",
    "#Function to show synonyms for \"word\"\n",
    "def synonyms(word):\n",
    "    return model.wv.most_similar(positive=[word])\n",
    "\n",
    "#Function to calculate distance between \"word1\" and \"word2\"\n",
    "def distance(word1, word2):\n",
    "    return model.wv.similarity(w1=word1, w2=word2)\n",
    "\n",
    "#Function to add \"word1\" and \"word2\"\n",
    "def add(word1, word2):\n",
    "    return model.wv.most_similar(positive=[word1, word2])\n",
    "\n",
    "#Function to　subtract \"word2\" from \"word1\"\n",
    "def subtract(word1, word2):\n",
    "    return model.wv.most_similar(positive=[word1], negative=[word2])"
   ]
  },
  {
   "cell_type": "markdown",
   "metadata": {},
   "source": [
    "「Apple」の類義語を探してみます。"
   ]
  },
  {
   "cell_type": "code",
   "execution_count": 7,
   "metadata": {},
   "outputs": [
    {
     "data": {
      "text/plain": [
       "[('アップル', 0.7224156856536865),\n",
       " ('Macintosh', 0.7012893557548523),\n",
       " ('iPhone', 0.6815098524093628),\n",
       " ('アップルコンピュータ', 0.6612750291824341),\n",
       " ('iMac', 0.6588719487190247),\n",
       " ('iPod', 0.6579967141151428),\n",
       " ('SoC', 0.6539415121078491),\n",
       " ('Pentium', 0.6430906057357788),\n",
       " ('iPad', 0.6400445103645325),\n",
       " ('Athlon', 0.6397019028663635)]"
      ]
     },
     "execution_count": 7,
     "metadata": {},
     "output_type": "execute_result"
    }
   ],
   "source": [
    "synonyms(\"Apple\")"
   ]
  },
  {
   "cell_type": "markdown",
   "metadata": {},
   "source": [
    "次に、言葉どうしの距離を測ってみます。戻り値は「コサイン類似度」で返されます。  \n",
    "0から-1の実数で表され、1に近づくほど二つの言葉が似ていることを示します。\n",
    "\n",
    "- 「Apple」と「Google」の距離"
   ]
  },
  {
   "cell_type": "code",
   "execution_count": 22,
   "metadata": {},
   "outputs": [
    {
     "data": {
      "text/plain": [
       "0.6034663"
      ]
     },
     "execution_count": 22,
     "metadata": {},
     "output_type": "execute_result"
    }
   ],
   "source": [
    "distance(\"Apple\", \"Google\")"
   ]
  },
  {
   "cell_type": "markdown",
   "metadata": {},
   "source": [
    "- 「Apple」と「Facebook」の距離"
   ]
  },
  {
   "cell_type": "code",
   "execution_count": 13,
   "metadata": {},
   "outputs": [
    {
     "data": {
      "text/plain": [
       "0.40058208"
      ]
     },
     "execution_count": 13,
     "metadata": {},
     "output_type": "execute_result"
    }
   ],
   "source": [
    "distance(\"Apple\", \"Facebook\")"
   ]
  },
  {
   "cell_type": "markdown",
   "metadata": {},
   "source": [
    "- 「Apple」と「朝鮮民主主義人民共和国」の距離"
   ]
  },
  {
   "cell_type": "code",
   "execution_count": 26,
   "metadata": {},
   "outputs": [
    {
     "data": {
      "text/plain": [
       "-0.08636804"
      ]
     },
     "execution_count": 26,
     "metadata": {},
     "output_type": "execute_result"
    }
   ],
   "source": [
    "distance(\"Apple\", \"朝鮮民主主義人民共和国\")"
   ]
  },
  {
   "cell_type": "markdown",
   "metadata": {},
   "source": [
    "言葉どうしの足し算をしてみます。"
   ]
  },
  {
   "cell_type": "markdown",
   "metadata": {},
   "source": [
    "- 「カレー」が「辛い」とどうなるか？"
   ]
  },
  {
   "cell_type": "code",
   "execution_count": 30,
   "metadata": {},
   "outputs": [
    {
     "data": {
      "text/plain": [
       "('美味しい', 0.7316645383834839)"
      ]
     },
     "execution_count": 30,
     "metadata": {},
     "output_type": "execute_result"
    }
   ],
   "source": [
    "add(\"カレー\", \"辛い\")[0]"
   ]
  },
  {
   "cell_type": "markdown",
   "metadata": {},
   "source": [
    "辛いカレーは美味しいことを導き出すことができました。  \n",
    "(参考:「Pythonによるスクレイピング＆機械学習 開発テクニック」)"
   ]
  },
  {
   "cell_type": "markdown",
   "metadata": {},
   "source": [
    "- 「キムチ」に「ビビンバ」を混ぜるとどうなるか？"
   ]
  },
  {
   "cell_type": "code",
   "execution_count": 41,
   "metadata": {},
   "outputs": [
    {
     "data": {
      "text/plain": [
       "('チゲ', 0.7666387557983398)"
      ]
     },
     "execution_count": 41,
     "metadata": {},
     "output_type": "execute_result"
    }
   ],
   "source": [
    "add(\"キムチ\", \"ビビンバ\")[0]"
   ]
  },
  {
   "cell_type": "markdown",
   "metadata": {},
   "source": [
    "チゲは肉や野菜を味噌で煮込んだ朝鮮料理なので、あながち間違いではないかも...?"
   ]
  },
  {
   "cell_type": "markdown",
   "metadata": {},
   "source": [
    "次は、言葉どうしの引き算をしてみます。  \n",
    "- 「大学」から「教授」が消えるとどうなるか？"
   ]
  },
  {
   "cell_type": "code",
   "execution_count": 47,
   "metadata": {},
   "outputs": [
    {
     "data": {
      "text/plain": [
       "('プレップスクール', 0.44287171959877014)"
      ]
     },
     "execution_count": 47,
     "metadata": {},
     "output_type": "execute_result"
    }
   ],
   "source": [
    "subtract(\"大学\", \"教授\")[0]"
   ]
  },
  {
   "cell_type": "markdown",
   "metadata": {},
   "source": [
    "「プレップスクール」は大学の進学準備に重点を置いた高校のようなので、正解と言えるでしょう。"
   ]
  },
  {
   "cell_type": "markdown",
   "metadata": {},
   "source": [
    "- 「地球」から「人間」が消えたら？"
   ]
  },
  {
   "cell_type": "code",
   "execution_count": 66,
   "metadata": {},
   "outputs": [
    {
     "data": {
      "text/plain": [
       "('アネア', 0.4467170834541321)"
      ]
     },
     "execution_count": 66,
     "metadata": {},
     "output_type": "execute_result"
    }
   ],
   "source": [
    "subtract(\"地球\", \"人間\")[0]"
   ]
  },
  {
   "cell_type": "markdown",
   "metadata": {},
   "source": [
    "「アネア」は、「大陸戦争」という小惑星が地球に落下するストーリーのゲームに出てくる大陸名らしいです。なかなか面白い。"
   ]
  },
  {
   "cell_type": "markdown",
   "metadata": {},
   "source": [
    "最後は、ごちゃごちゃ足したり引いたりしてみます。  \n",
    "- 「東京」ー「日本」＋「アメリカ」は？"
   ]
  },
  {
   "cell_type": "code",
   "execution_count": 67,
   "metadata": {},
   "outputs": [
    {
     "data": {
      "text/plain": [
       "[('ニューヨーク', 0.6160283088684082),\n",
       " ('ボストン', 0.5341443419456482),\n",
       " ('フィラデルフィア', 0.5324333906173706),\n",
       " ('ロサンゼルス', 0.5309801697731018),\n",
       " ('ロンドン', 0.5292848348617554),\n",
       " ('マイアミ', 0.5129263401031494),\n",
       " ('ピッツバーグ', 0.4996495246887207),\n",
       " ('リッチモンド', 0.4917035400867462),\n",
       " ('ワシントン', 0.4910965859889984),\n",
       " ('テキサス', 0.49046269059181213)]"
      ]
     },
     "execution_count": 67,
     "metadata": {},
     "output_type": "execute_result"
    }
   ],
   "source": [
    "model.wv.most_similar(positive=[\"東京\", \"アメリカ\"], negative=[\"日本\"])"
   ]
  },
  {
   "cell_type": "markdown",
   "metadata": {},
   "source": [
    "ワシントンは結構下の方ですね。東京は経済の中心地でもあるので、それが優先された感じになっています。  \n",
    "- フランスにおけるビールは？"
   ]
  },
  {
   "cell_type": "code",
   "execution_count": 76,
   "metadata": {},
   "outputs": [
    {
     "data": {
      "text/plain": [
       "('ワイン', 0.6647170782089233)"
      ]
     },
     "execution_count": 76,
     "metadata": {},
     "output_type": "execute_result"
    }
   ],
   "source": [
    "model.wv.most_similar(positive=[\"ビール\", \"フランス\"], negative=[\"アメリカ\"])[0]"
   ]
  },
  {
   "cell_type": "markdown",
   "metadata": {},
   "source": [
    "ごもっとも。お酒は割とわかりやすいので、他の国でもやってみます。  \n",
    "- ロシアにおけるビールは？"
   ]
  },
  {
   "cell_type": "code",
   "execution_count": 77,
   "metadata": {},
   "outputs": [
    {
     "data": {
      "text/plain": [
       "('クワス', 0.551207423210144)"
      ]
     },
     "execution_count": 77,
     "metadata": {},
     "output_type": "execute_result"
    }
   ],
   "source": [
    "model.wv.most_similar(positive=[\"ビール\", \"ロシア\"], negative=[\"アメリカ\"])[0]"
   ]
  },
  {
   "cell_type": "raw",
   "metadata": {},
   "source": [
    "東欧の伝統的微アルコール飲料だそうです。  \n",
    "- 日本におけるビールは？"
   ]
  },
  {
   "cell_type": "code",
   "execution_count": 78,
   "metadata": {},
   "outputs": [
    {
     "data": {
      "text/plain": [
       "('清酒', 0.6632060408592224)"
      ]
     },
     "execution_count": 78,
     "metadata": {},
     "output_type": "execute_result"
    }
   ],
   "source": [
    "model.wv.most_similar(positive=[\"ビール\", \"日本\"], negative=[\"アメリカ\"])[0]"
   ]
  },
  {
   "cell_type": "markdown",
   "metadata": {},
   "source": [
    "素晴らしい。  \n",
    "ところで、日本には「尺」という単位があります。1尺は約30.3cm。では、アメリカに同じような単位はあるのでしょうか？"
   ]
  },
  {
   "cell_type": "code",
   "execution_count": 81,
   "metadata": {},
   "outputs": [
    {
     "data": {
      "text/plain": [
       "('フィート', 0.6381105780601501)"
      ]
     },
     "execution_count": 81,
     "metadata": {},
     "output_type": "execute_result"
    }
   ],
   "source": [
    "model.wv.most_similar(positive=[\"尺\", \"アメリカ\"], negative=[\"日本\"])[0]"
   ]
  },
  {
   "cell_type": "markdown",
   "metadata": {},
   "source": [
    "1フィートは30.48cm。ビンゴ！  \n",
    "このように、Word2vecを使うと様々な処理をすることができます。皆さんも是非使ってみてください。"
   ]
  },
  {
   "cell_type": "markdown",
   "metadata": {},
   "source": [
    "## Word2Vec インストール方法  \n",
    "以下のコマンドを実行してください。"
   ]
  },
  {
   "cell_type": "markdown",
   "metadata": {},
   "source": [
    "```shell:\n",
    "/usr/bin/ruby -e \"$(curl -fsSL https://raw.githubusercontent.com/Homebrew/install/master/install)\"\n",
    "#途中で止まるので、returnキーを押してからパスワードを入力して、再度returnキーを押してください。\n",
    "brew install swig mecab mecab-ipadic nkf\n",
    "pip install mecab-python3\n",
    "curl https://dumps.wikimedia.org/jawiki/latest/jawiki-latest-pages-articles.xml.bz2 -o jawiki-latest-pages-articles.xml.bz2\n",
    "git clone https://github.com/attardi/wikiextractor.git\n",
    "python3 ./wikiextractor/WikiExtractor.py ./jawiki-latest-pages-articles.xml.bz2\n",
    "find ./wikiextractor/text/ | grep wiki | awk '{system(\"cat \"$0\" >> wiki.txt\")}'\n",
    "pip install gensim\n",
    "mecab -Owakati wiki.txt -o wiki_wakachi.txt\n",
    "nkf -w --overwrite wiki_wakachi.txt\n",
    "python3\n",
    "```\n",
    "次に、以下のスクリプトを実行してください。"
   ]
  },
  {
   "cell_type": "markdown",
   "metadata": {},
   "source": [
    "```python3:\n",
    "from gensim.models import word2vec\n",
    "\n",
    "sentences = word2vec.Text8Corpus('./wiki_wakachi.txt')\n",
    "model = word2vec.Word2Vec(sentences, size=200, min_count=20, window=15)\n",
    "model.save(\"./wiki.model\")\n",
    "```"
   ]
  },
  {
   "cell_type": "markdown",
   "metadata": {},
   "source": [
    "以上でインストールとモデルの構築が完了します。"
   ]
  },
  {
   "cell_type": "code",
   "execution_count": null,
   "metadata": {},
   "outputs": [],
   "source": []
  }
 ],
 "metadata": {
  "kernelspec": {
   "display_name": "Python 3",
   "language": "python",
   "name": "python3"
  },
  "language_info": {
   "codemirror_mode": {
    "name": "ipython",
    "version": 3
   },
   "file_extension": ".py",
   "mimetype": "text/x-python",
   "name": "python",
   "nbconvert_exporter": "python",
   "pygments_lexer": "ipython3",
   "version": "3.7.3"
  }
 },
 "nbformat": 4,
 "nbformat_minor": 2
}
